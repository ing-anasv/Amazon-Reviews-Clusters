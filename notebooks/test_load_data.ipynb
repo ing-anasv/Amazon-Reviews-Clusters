{
 "cells": [
  {
   "cell_type": "code",
   "execution_count": 33,
   "id": "a1d980af",
   "metadata": {},
   "outputs": [
    {
     "data": {
      "text/plain": [
       "<module 'src.pipeline.ingestion' from 'D:\\\\amazon-reviews\\\\src\\\\pipeline\\\\ingestion.py'>"
      ]
     },
     "execution_count": 33,
     "metadata": {},
     "output_type": "execute_result"
    }
   ],
   "source": [
    "# Test file load_data\n",
    "\n",
    "from importlib import reload\n",
    "import os\n",
    "os.chdir(\"D:/amazon-reviews\") # Run always on the root to avoid problems\n",
    "\n",
    "\n",
    "import pandas as pd\n",
    "from src.load_data import load_info, multiple_files #I mport funtion from file\n",
    "from src.text.clean_text import clean\n",
    "from src.text.lang_detection import is_english\n",
    "import src.pipeline.ingestion as ingest\n",
    "reload(ingest)\n"
   ]
  },
  {
   "cell_type": "code",
   "execution_count": 27,
   "id": "d7b01991",
   "metadata": {},
   "outputs": [
    {
     "name": "stdout",
     "output_type": "stream",
     "text": [
      "Reading file: Musical_Instruments.json.gz ...\n",
      " Loaded 1512530 rows and 12 columns.\n"
     ]
    },
    {
     "data": {
      "text/html": [
       "<div>\n",
       "<style scoped>\n",
       "    .dataframe tbody tr th:only-of-type {\n",
       "        vertical-align: middle;\n",
       "    }\n",
       "\n",
       "    .dataframe tbody tr th {\n",
       "        vertical-align: top;\n",
       "    }\n",
       "\n",
       "    .dataframe thead th {\n",
       "        text-align: right;\n",
       "    }\n",
       "</style>\n",
       "<table border=\"1\" class=\"dataframe\">\n",
       "  <thead>\n",
       "    <tr style=\"text-align: right;\">\n",
       "      <th></th>\n",
       "      <th>overall</th>\n",
       "      <th>vote</th>\n",
       "      <th>verified</th>\n",
       "      <th>reviewTime</th>\n",
       "      <th>reviewerID</th>\n",
       "      <th>asin</th>\n",
       "      <th>style</th>\n",
       "      <th>reviewerName</th>\n",
       "      <th>reviewText</th>\n",
       "      <th>summary</th>\n",
       "      <th>unixReviewTime</th>\n",
       "      <th>image</th>\n",
       "    </tr>\n",
       "  </thead>\n",
       "  <tbody>\n",
       "    <tr>\n",
       "      <th>0</th>\n",
       "      <td>5</td>\n",
       "      <td>90</td>\n",
       "      <td>False</td>\n",
       "      <td>08 9, 2004</td>\n",
       "      <td>AXHY24HWOF184</td>\n",
       "      <td>0470536454</td>\n",
       "      <td>{'Format:': ' Paperback'}</td>\n",
       "      <td>Bendy</td>\n",
       "      <td>Crocheting for Dummies by Karen Manthey &amp; Susa...</td>\n",
       "      <td>Terrific Book for Learning the Art of Crochet</td>\n",
       "      <td>1092009600</td>\n",
       "      <td>NaN</td>\n",
       "    </tr>\n",
       "    <tr>\n",
       "      <th>1</th>\n",
       "      <td>4</td>\n",
       "      <td>2</td>\n",
       "      <td>True</td>\n",
       "      <td>04 6, 2017</td>\n",
       "      <td>A29OWR79AM796H</td>\n",
       "      <td>0470536454</td>\n",
       "      <td>{'Format:': ' Hardcover'}</td>\n",
       "      <td>Amazon Customer</td>\n",
       "      <td>Very helpful...</td>\n",
       "      <td>Four Stars</td>\n",
       "      <td>1491436800</td>\n",
       "      <td>NaN</td>\n",
       "    </tr>\n",
       "    <tr>\n",
       "      <th>2</th>\n",
       "      <td>5</td>\n",
       "      <td>NaN</td>\n",
       "      <td>True</td>\n",
       "      <td>03 14, 2017</td>\n",
       "      <td>AUPWU27A7X5F6</td>\n",
       "      <td>0470536454</td>\n",
       "      <td>{'Format:': ' Paperback'}</td>\n",
       "      <td>Amazon Customer</td>\n",
       "      <td>EASY TO UNDERSTAND AND A PROMPT SERVICE TOO</td>\n",
       "      <td>Five Stars</td>\n",
       "      <td>1489449600</td>\n",
       "      <td>NaN</td>\n",
       "    </tr>\n",
       "    <tr>\n",
       "      <th>3</th>\n",
       "      <td>4</td>\n",
       "      <td>NaN</td>\n",
       "      <td>True</td>\n",
       "      <td>02 14, 2017</td>\n",
       "      <td>A1N69A47D4JO6K</td>\n",
       "      <td>0470536454</td>\n",
       "      <td>{'Format:': ' Paperback'}</td>\n",
       "      <td>Christopher Burnett</td>\n",
       "      <td>My girlfriend use quite often</td>\n",
       "      <td>Four Stars</td>\n",
       "      <td>1487030400</td>\n",
       "      <td>NaN</td>\n",
       "    </tr>\n",
       "    <tr>\n",
       "      <th>4</th>\n",
       "      <td>5</td>\n",
       "      <td>NaN</td>\n",
       "      <td>True</td>\n",
       "      <td>01 29, 2017</td>\n",
       "      <td>AHTIQUMVCGBFJ</td>\n",
       "      <td>0470536454</td>\n",
       "      <td>{'Format:': ' Paperback'}</td>\n",
       "      <td>Amazon Customer</td>\n",
       "      <td>Arrived as described. Very happy.</td>\n",
       "      <td>Very happy.</td>\n",
       "      <td>1485648000</td>\n",
       "      <td>NaN</td>\n",
       "    </tr>\n",
       "  </tbody>\n",
       "</table>\n",
       "</div>"
      ],
      "text/plain": [
       "   overall vote  verified   reviewTime      reviewerID        asin  \\\n",
       "0        5   90     False   08 9, 2004   AXHY24HWOF184  0470536454   \n",
       "1        4    2      True   04 6, 2017  A29OWR79AM796H  0470536454   \n",
       "2        5  NaN      True  03 14, 2017   AUPWU27A7X5F6  0470536454   \n",
       "3        4  NaN      True  02 14, 2017  A1N69A47D4JO6K  0470536454   \n",
       "4        5  NaN      True  01 29, 2017   AHTIQUMVCGBFJ  0470536454   \n",
       "\n",
       "                       style         reviewerName  \\\n",
       "0  {'Format:': ' Paperback'}                Bendy   \n",
       "1  {'Format:': ' Hardcover'}      Amazon Customer   \n",
       "2  {'Format:': ' Paperback'}      Amazon Customer   \n",
       "3  {'Format:': ' Paperback'}  Christopher Burnett   \n",
       "4  {'Format:': ' Paperback'}      Amazon Customer   \n",
       "\n",
       "                                          reviewText  \\\n",
       "0  Crocheting for Dummies by Karen Manthey & Susa...   \n",
       "1                                    Very helpful...   \n",
       "2        EASY TO UNDERSTAND AND A PROMPT SERVICE TOO   \n",
       "3                      My girlfriend use quite often   \n",
       "4                  Arrived as described. Very happy.   \n",
       "\n",
       "                                         summary  unixReviewTime image  \n",
       "0  Terrific Book for Learning the Art of Crochet      1092009600   NaN  \n",
       "1                                     Four Stars      1491436800   NaN  \n",
       "2                                     Five Stars      1489449600   NaN  \n",
       "3                                     Four Stars      1487030400   NaN  \n",
       "4                                    Very happy.      1485648000   NaN  "
      ]
     },
     "execution_count": 27,
     "metadata": {},
     "output_type": "execute_result"
    }
   ],
   "source": [
    "# Test 1\n",
    "\n",
    "df = load_info(\"data/raw/Musical_Instruments.json.gz\")\n",
    "\n",
    "df.head()"
   ]
  },
  {
   "cell_type": "code",
   "execution_count": 28,
   "id": "33874824",
   "metadata": {},
   "outputs": [
    {
     "name": "stdout",
     "output_type": "stream",
     "text": [
      "[WindowsPath('data/raw/Electronics.json.gz'), WindowsPath('data/raw/Industrial_and_Scientific.json.gz'), WindowsPath('data/raw/Musical_Instruments.json.gz'), WindowsPath('data/raw/Video_Games.json.gz')]\n"
     ]
    }
   ],
   "source": [
    "# Test 2\n",
    "\n",
    "files = multiple_files()\n",
    "\n",
    "print(files)"
   ]
  },
  {
   "cell_type": "code",
   "execution_count": 29,
   "id": "5e643077",
   "metadata": {},
   "outputs": [
    {
     "name": "stdout",
     "output_type": "stream",
     "text": [
      "4 files found in data/raw/\n",
      "Electronics.json.gz\n",
      "Industrial_and_Scientific.json.gz\n",
      "Musical_Instruments.json.gz\n",
      "Video_Games.json.gz\n"
     ]
    }
   ],
   "source": [
    "# Test 3 - Try the first step of the pipeline ingestion READ THE FILES using funtions created in load_data\n",
    "\n",
    "raw_files = ingest.list_raw_files()"
   ]
  },
  {
   "cell_type": "code",
   "execution_count": 41,
   "id": "1ada6c0f",
   "metadata": {},
   "outputs": [
    {
     "name": "stdout",
     "output_type": "stream",
     "text": [
      "Chunk test in file: Electronics.json.gz\n",
      "1000 rows loaded for first chunk\n",
      "   overall  verified   reviewTime      reviewerID      asin  \\\n",
      "0        5      True  07 17, 2002  A1N070NS9CJQ2I  60009810   \n",
      "1        5     False   07 6, 2002  A3P0KRKOBQK1KN  60009810   \n",
      "2        5     False   07 3, 2002  A192HO2ICJ75VU  60009810   \n",
      "3        4     False  06 30, 2002  A2T278FKFL3BLT  60009810   \n",
      "4        5     False  06 28, 2002  A2ZUXVTW8RXBXW  60009810   \n",
      "\n",
      "                       style reviewerName  \\\n",
      "0  {'Format:': ' Hardcover'}   Teri Adams   \n",
      "1  {'Format:': ' Hardcover'}     Willa C.   \n",
      "2  {'Format:': ' Hardcover'}          Kit   \n",
      "3  {'Format:': ' Hardcover'}       Andres   \n",
      "4  {'Format:': ' Hardcover'}         John   \n",
      "\n",
      "                                          reviewText  \\\n",
      "0  This was the first time I read Garcia-Aguilera...   \n",
      "1  As with all of Ms. Garcia-Aguilera's books, I ...   \n",
      "2  I've not read any of Ms Aguilera's works befor...   \n",
      "3  This romance novel is right up there with the ...   \n",
      "4  Carolina Garcia Aguilera has done it again.  S...   \n",
      "\n",
      "                          summary  unixReviewTime  vote image  \n",
      "0                   Hit The Spot!      1026864000   NaN   NaN  \n",
      "1  one hot summer is HOT HOT HOT!      1025913600   NaN   NaN  \n",
      "2                  One Hot Summer      1025654400   2.0   NaN  \n",
      "3               I love this book!      1025395200   3.0   NaN  \n",
      "4                    One Hot Book      1025222400   NaN   NaN  \n"
     ]
    }
   ],
   "source": [
    "# Test 4 -  try to read one chunk\n",
    "\n",
    "if len(raw_files) > 0: # Verify raw_files is not empty \n",
    "    file_one = raw_files[0]\n",
    "    print(f\"Chunk test in file: {file_one.name}\")\n",
    "\n",
    "    for chunk in pd.read_json(file_one, lines=True, chunksize=1000):\n",
    "        print(f\"{len(chunk)} rows loaded for first chunk\")\n",
    "        print(chunk.head()) # Show first rows\n",
    "        break  # Just to test with chunk #1\n",
    "else:\n",
    "    print(\"No files found in data/raw/\")\n"
   ]
  },
  {
   "cell_type": "code",
   "execution_count": 42,
   "id": "b9b1ae30",
   "metadata": {},
   "outputs": [
    {
     "name": "stdout",
     "output_type": "stream",
     "text": [
      "Before: This was the first time I read Garcia-Aguilera.  I came upon the name of this book on Live with Regis and Kelly. This book was exactly what I was looking for ... it hit the spot.  I really enjoyed this book because it was well written. Once I started this book it kept me coming back for more. It had culture, family, friendship and romance. I was looking for a little more romance when I picked this book but in the end it turned out to be just right.  I love the main chartachter Margarita (aka Daisy). I've never been to Miami but the way Daisy told the story I certainly felt I'd been there.\n",
      "Also after going through all of Daisy's perils ... I closed the book with a feeling I had grown emotionally as well.    \n",
      "After: this was the first time i read garcia-aguilera i came upon the name of this book on live with regis and kelly this book was exactly what i was looking for it hit the spot i really enjoyed this book because it was well written once i started this book it kept me coming back for more it had culture family friendship and romance i was looking for a little more romance when i picked this book but in the end it turned out to be just right i love the main chartachter margarita (aka daisy) i've never been to miami but the way daisy told the story i certainly felt i'd been there also after going through all of daisy's perils i closed the book with a feeling i had grown emotionally as well\n",
      "\n",
      "\n",
      "Before: As with all of Ms. Garcia-Aguilera's books, I think this is a MUST READ, impossible to put down. Successful deviation from past Lupe Solano series-captures the very essence of the excitement, local color and diverse fabric of MIAMI. Sensual and culturally enlightened!    \n",
      "After: as with all of ms garcia-aguilera's books i think this is a must read impossible to put down successful deviation from past lupe solano series-captures the very essence of the excitement local color and diverse fabric of miami sensual and culturally enlightened\n",
      "\n",
      "\n",
      "Before: I've not read any of Ms Aguilera's works before, but after having just finished One Hot Summer I'm going to check out the Lupe Solano series I've heard so much about.  One Hot Summer is sooo steamy! Made me want to move to Miami!  Couldn't put the book down.    \n",
      "After: i've not read any of ms aguilera's works before but after having just finished one hot summer i'm going to check out the lupe solano series i've heard so much about one hot summer is sooo steamy made me want to move to miami couldn't put the book down\n",
      "\n",
      "\n",
      "Before: This romance novel is right up there with the rest of her amazing mystery novels.  Being a guy, I was a little hesitant about reading a romance novel but I just had to give this book a shot because I have been such a huge fan of Garcia-Aguilera's books.  And to be honest, I absolutely loved this book.  I love the way she presents funky Miami and its crazy Cubans in not just this book but all her books.  Garcia-Aguilera did a superb job with this book, and I can't wait till her next book.  You gotta read this book!!!!    \n",
      "After: this romance novel is right up there with the rest of her amazing mystery novels being a guy i was a little hesitant about reading a romance novel but i just had to give this book a shot because i have been such a huge fan of garcia-aguilera's books and to be honest i absolutely loved this book i love the way she presents funky miami and its crazy cubans in not just this book but all her books garcia-aguilera did a superb job with this book and i can't wait till her next book you gotta read this book\n",
      "\n",
      "\n",
      "Before: Carolina Garcia Aguilera has done it again.  She's written another highly enjoyable book and infused it with the right amount of Cuban-American tidbits.  My family and I cannot put her books down once we start and this one was not a let down.    \n",
      "After: carolina garcia aguilera has done it again she's written another highly enjoyable book and infused it with the right amount of cuban-american tidbits my family and i cannot put her books down once we start and this one was not a let down\n",
      "\n",
      "\n"
     ]
    }
   ],
   "source": [
    "# Try 4 - Apply the cleaning module to the reviewText column\n",
    "\n",
    "# Take the column review text from chunk\n",
    "rText = chunk['reviewText']\n",
    "\n",
    "# Apply cleaning\n",
    "\n",
    "rText_cleaned = rText.apply(clean)\n",
    "\n",
    "for org, cleaned in zip(rText.head(5), rText_cleaned.head(5)):\n",
    "\n",
    "    print(f\"Before: {org}    \")\n",
    "    print (f\"After: {cleaned}\")\n",
    "    print(\"\\n\")\n",
    "\n"
   ]
  },
  {
   "cell_type": "code",
   "execution_count": null,
   "id": "a9269027",
   "metadata": {},
   "outputs": [
    {
     "name": "stdout",
     "output_type": "stream",
     "text": [
      "3\n"
     ]
    }
   ],
   "source": [
    "# Test 5 - Try the langdetect module on the chunk\n",
    "\n",
    "#english_rows = rText.apply(is_english)\n",
    "\n",
    "samples =  [\n",
    "\n",
    "    \"si me gustó\",\n",
    "    \"didn't like it\",\n",
    "    \"ich habe eine pfel\"\n",
    "]\n",
    "\n",
    "lis= []\n",
    "for a in samples:\n",
    "    lis.append(is_english(a))\n",
    "\n",
    "print(len(lis))\n",
    "\n",
    "#print(f\"Original size: {rText_cleaned.size}\\n\")\n",
    "#print(f\"English reviews: {english_rows.size}\")"
   ]
  },
  {
   "cell_type": "code",
   "execution_count": null,
   "id": "56649f07",
   "metadata": {},
   "outputs": [],
   "source": []
  }
 ],
 "metadata": {
  "kernelspec": {
   "display_name": "env",
   "language": "python",
   "name": "python3"
  },
  "language_info": {
   "codemirror_mode": {
    "name": "ipython",
    "version": 3
   },
   "file_extension": ".py",
   "mimetype": "text/x-python",
   "name": "python",
   "nbconvert_exporter": "python",
   "pygments_lexer": "ipython3",
   "version": "3.12.10"
  }
 },
 "nbformat": 4,
 "nbformat_minor": 5
}
