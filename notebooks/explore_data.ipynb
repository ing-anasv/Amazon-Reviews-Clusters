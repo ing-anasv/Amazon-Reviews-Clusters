{
 "cells": [
  {
   "cell_type": "code",
   "execution_count": 2,
   "id": "56f89c7f",
   "metadata": {},
   "outputs": [
    {
     "data": {
      "text/plain": [
       "<module 'src.text.clean_text' from 'D:\\\\amazon-reviews\\\\src\\\\text\\\\clean_text.py'>"
      ]
     },
     "execution_count": 2,
     "metadata": {},
     "output_type": "execute_result"
    }
   ],
   "source": [
    "# Test file explore_data\n",
    "import os\n",
    "os.chdir(\"D:/amazon-reviews\") # Run always on the root to avoid problems\n",
    "\n",
    "\n",
    "import pandas as pd\n",
    "from importlib import reload\n",
    "from pathlib import Path\n",
    "from langdetect import detect\n",
    "from src.features.select_columns import split_columns  # import function\n",
    "from src.text.lang_detection import detect_lan, is_english\n",
    "import src.text.clean_text as ct\n",
    "reload(ct)"
   ]
  },
  {
   "cell_type": "code",
   "execution_count": 3,
   "id": "029d6896",
   "metadata": {},
   "outputs": [
    {
     "name": "stdout",
     "output_type": "stream",
     "text": [
      "Previewing first 200 rows from: Electronics.json.gz\n"
     ]
    },
    {
     "data": {
      "text/html": [
       "<div>\n",
       "<style scoped>\n",
       "    .dataframe tbody tr th:only-of-type {\n",
       "        vertical-align: middle;\n",
       "    }\n",
       "\n",
       "    .dataframe tbody tr th {\n",
       "        vertical-align: top;\n",
       "    }\n",
       "\n",
       "    .dataframe thead th {\n",
       "        text-align: right;\n",
       "    }\n",
       "</style>\n",
       "<table border=\"1\" class=\"dataframe\">\n",
       "  <thead>\n",
       "    <tr style=\"text-align: right;\">\n",
       "      <th></th>\n",
       "      <th>overall</th>\n",
       "      <th>verified</th>\n",
       "      <th>reviewTime</th>\n",
       "      <th>reviewerID</th>\n",
       "      <th>asin</th>\n",
       "      <th>style</th>\n",
       "      <th>reviewerName</th>\n",
       "      <th>reviewText</th>\n",
       "      <th>summary</th>\n",
       "      <th>unixReviewTime</th>\n",
       "      <th>vote</th>\n",
       "    </tr>\n",
       "  </thead>\n",
       "  <tbody>\n",
       "    <tr>\n",
       "      <th>0</th>\n",
       "      <td>5</td>\n",
       "      <td>True</td>\n",
       "      <td>07 17, 2002</td>\n",
       "      <td>A1N070NS9CJQ2I</td>\n",
       "      <td>60009810</td>\n",
       "      <td>{'Format:': ' Hardcover'}</td>\n",
       "      <td>Teri Adams</td>\n",
       "      <td>This was the first time I read Garcia-Aguilera...</td>\n",
       "      <td>Hit The Spot!</td>\n",
       "      <td>1026864000</td>\n",
       "      <td>NaN</td>\n",
       "    </tr>\n",
       "    <tr>\n",
       "      <th>1</th>\n",
       "      <td>5</td>\n",
       "      <td>False</td>\n",
       "      <td>07 6, 2002</td>\n",
       "      <td>A3P0KRKOBQK1KN</td>\n",
       "      <td>60009810</td>\n",
       "      <td>{'Format:': ' Hardcover'}</td>\n",
       "      <td>Willa C.</td>\n",
       "      <td>As with all of Ms. Garcia-Aguilera's books, I ...</td>\n",
       "      <td>one hot summer is HOT HOT HOT!</td>\n",
       "      <td>1025913600</td>\n",
       "      <td>NaN</td>\n",
       "    </tr>\n",
       "    <tr>\n",
       "      <th>2</th>\n",
       "      <td>5</td>\n",
       "      <td>False</td>\n",
       "      <td>07 3, 2002</td>\n",
       "      <td>A192HO2ICJ75VU</td>\n",
       "      <td>60009810</td>\n",
       "      <td>{'Format:': ' Hardcover'}</td>\n",
       "      <td>Kit</td>\n",
       "      <td>I've not read any of Ms Aguilera's works befor...</td>\n",
       "      <td>One Hot Summer</td>\n",
       "      <td>1025654400</td>\n",
       "      <td>2.0</td>\n",
       "    </tr>\n",
       "    <tr>\n",
       "      <th>3</th>\n",
       "      <td>4</td>\n",
       "      <td>False</td>\n",
       "      <td>06 30, 2002</td>\n",
       "      <td>A2T278FKFL3BLT</td>\n",
       "      <td>60009810</td>\n",
       "      <td>{'Format:': ' Hardcover'}</td>\n",
       "      <td>Andres</td>\n",
       "      <td>This romance novel is right up there with the ...</td>\n",
       "      <td>I love this book!</td>\n",
       "      <td>1025395200</td>\n",
       "      <td>3.0</td>\n",
       "    </tr>\n",
       "    <tr>\n",
       "      <th>4</th>\n",
       "      <td>5</td>\n",
       "      <td>False</td>\n",
       "      <td>06 28, 2002</td>\n",
       "      <td>A2ZUXVTW8RXBXW</td>\n",
       "      <td>60009810</td>\n",
       "      <td>{'Format:': ' Hardcover'}</td>\n",
       "      <td>John</td>\n",
       "      <td>Carolina Garcia Aguilera has done it again.  S...</td>\n",
       "      <td>One Hot Book</td>\n",
       "      <td>1025222400</td>\n",
       "      <td>NaN</td>\n",
       "    </tr>\n",
       "  </tbody>\n",
       "</table>\n",
       "</div>"
      ],
      "text/plain": [
       "   overall  verified   reviewTime      reviewerID      asin  \\\n",
       "0        5      True  07 17, 2002  A1N070NS9CJQ2I  60009810   \n",
       "1        5     False   07 6, 2002  A3P0KRKOBQK1KN  60009810   \n",
       "2        5     False   07 3, 2002  A192HO2ICJ75VU  60009810   \n",
       "3        4     False  06 30, 2002  A2T278FKFL3BLT  60009810   \n",
       "4        5     False  06 28, 2002  A2ZUXVTW8RXBXW  60009810   \n",
       "\n",
       "                       style reviewerName  \\\n",
       "0  {'Format:': ' Hardcover'}   Teri Adams   \n",
       "1  {'Format:': ' Hardcover'}     Willa C.   \n",
       "2  {'Format:': ' Hardcover'}          Kit   \n",
       "3  {'Format:': ' Hardcover'}       Andres   \n",
       "4  {'Format:': ' Hardcover'}         John   \n",
       "\n",
       "                                          reviewText  \\\n",
       "0  This was the first time I read Garcia-Aguilera...   \n",
       "1  As with all of Ms. Garcia-Aguilera's books, I ...   \n",
       "2  I've not read any of Ms Aguilera's works befor...   \n",
       "3  This romance novel is right up there with the ...   \n",
       "4  Carolina Garcia Aguilera has done it again.  S...   \n",
       "\n",
       "                          summary  unixReviewTime  vote  \n",
       "0                   Hit The Spot!      1026864000   NaN  \n",
       "1  one hot summer is HOT HOT HOT!      1025913600   NaN  \n",
       "2                  One Hot Summer      1025654400   2.0  \n",
       "3               I love this book!      1025395200   3.0  \n",
       "4                    One Hot Book      1025222400   NaN  "
      ]
     },
     "execution_count": 3,
     "metadata": {},
     "output_type": "execute_result"
    }
   ],
   "source": [
    "# Step 1: Function to load just a number of columns to properly explore data set\n",
    "\n",
    "def preview_columns(file_path, n=200):\n",
    "    \"\"\"\n",
    "    Loads a small preview of the dataset (first n rows) to avoids memory errors.\n",
    "    \n",
    "    \"\"\"\n",
    "    f_path = Path(file_path)\n",
    "    if not f_path.exists():\n",
    "        print(f\"Path {f_path} not found.\")\n",
    "        return None\n",
    "\n",
    "    print(f\"Previewing first {n} rows from: {f_path.name}\")\n",
    "    df_preview = pd.read_json(f_path, lines=True, nrows=n)\n",
    "    return df_preview\n",
    "\n",
    "\n",
    "df_preview = preview_columns(\"data/raw/Electronics.json.gz\")\n",
    "df_preview.head()\n",
    "\n",
    "#print(df_preview.columns)"
   ]
  },
  {
   "cell_type": "code",
   "execution_count": 4,
   "id": "faccfdce",
   "metadata": {},
   "outputs": [
    {
     "name": "stdout",
     "output_type": "stream",
     "text": [
      "4 files found\n",
      "\n",
      "Electronics.json.gz has 11 columns\n",
      "['asin', 'overall', 'reviewText', 'reviewTime', 'reviewerID', 'reviewerName', 'style', 'summary', 'unixReviewTime', 'verified', 'vote']\n",
      " \n",
      "Industrial_and_Scientific.json.gz has 10 columns\n",
      "['asin', 'overall', 'reviewText', 'reviewTime', 'reviewerID', 'reviewerName', 'summary', 'unixReviewTime', 'verified', 'vote']\n",
      " \n",
      "Musical_Instruments.json.gz has 11 columns\n",
      "['asin', 'overall', 'reviewText', 'reviewTime', 'reviewerID', 'reviewerName', 'style', 'summary', 'unixReviewTime', 'verified', 'vote']\n",
      " \n",
      "Video_Games.json.gz has 10 columns\n",
      "['asin', 'overall', 'reviewText', 'reviewTime', 'reviewerID', 'reviewerName', 'summary', 'unixReviewTime', 'verified', 'vote']\n",
      " \n"
     ]
    }
   ],
   "source": [
    "# Step 2 Just load the columns of each file\n",
    "\n",
    "data_dir = Path(\"data/raw\")\n",
    "files = sorted(data_dir.glob(\"*.json.gz\")) + sorted(data_dir.glob(\"*.json\")) # glob returns a list of all the files that end in .json\n",
    "\n",
    "print(f\"{len(files)} files found\\n\")\n",
    "\n",
    "for fp in files:\n",
    "    col_prev = pd.read_json(fp, lines=True, nrows=50)  \n",
    "    print(f\"{fp.name} has {len(col_prev.columns)} columns\")\n",
    "    print(sorted(col_prev.columns))\n",
    "    print(\" \")\n",
    "\n"
   ]
  },
  {
   "cell_type": "code",
   "execution_count": 5,
   "id": "a8e2735a",
   "metadata": {},
   "outputs": [
    {
     "name": "stdout",
     "output_type": "stream",
     "text": [
      "Dataset columns:\n",
      "Index(['overall', 'vote', 'verified', 'reviewTime', 'reviewerID', 'asin',\n",
      "       'style', 'reviewerName', 'reviewText', 'summary', 'unixReviewTime'],\n",
      "      dtype='object')\n",
      "\n",
      "Function split_columns():\n",
      "{'text': ['reviewText', 'summary'], 'context': ['asin', 'overall', 'reviewTime', 'unixReviewTime', 'reviewerID', 'reviewerName', 'verified', 'vote', 'style']}\n"
     ]
    }
   ],
   "source": [
    "# Step 3: test the column separation functionn\n",
    "\n",
    "# Use a dataset\n",
    "df_test = pd.read_json(\"data/raw/Musical_Instruments.json.gz\", lines=True, nrows=50)\n",
    "cols = df_test.columns\n",
    "\n",
    "# Original columns\n",
    "print(\"Dataset columns:\")\n",
    "print(cols)\n",
    "\n",
    "\n",
    "# Separated columns\n",
    "print(\"\\nFunction split_columns():\")\n",
    "print(split_columns(cols))\n"
   ]
  },
  {
   "cell_type": "code",
   "execution_count": 6,
   "id": "39fda8f5",
   "metadata": {},
   "outputs": [
    {
     "name": "stdout",
     "output_type": "stream",
     "text": [
      "Original:   EASY TO UNDERSTAND AND A PROMPT    SERVICE TOO\t !!!!!!!!!!! 😍😍 \n",
      "Cleaned:  easy to understand and a prompt service too\n",
      " \n",
      "Original: 💀💀 URL TeStInG: www.ilovepdf.com  i love it 🐍 so much let's test it out \n",
      "Cleaned:  url testing i love it so much let's test it out\n",
      " \n",
      "Original: None\n",
      "Cleaned:  \n",
      " \n",
      "Original:   Already clean text ❌✅🎯\n",
      "Cleaned:  already clean text\n",
      " \n",
      "Original: 🧠🎤Arrived as 🎮🔖 described. Very happy!.\n",
      "Cleaned:  arrived as described very happy\n",
      " \n"
     ]
    }
   ],
   "source": [
    "# Step 4: Test data cleaning\n",
    "\n",
    "test_cases = [\n",
    "    \"  EASY TO UNDERSTAND AND A PROMPT    SERVICE TOO\t !!!!!!!!!!! 😍😍 \",\n",
    "    \"💀💀 URL TeStInG: www.ilovepdf.com  i love it 🐍 so much let's test it out \",\n",
    "    None,\n",
    "    \"  Already clean text ❌✅🎯\",\n",
    "    \"🧠🎤Arrived as 🎮🔖 described. Very happy!.\"\n",
    "]\n",
    "\n",
    "for cases in test_cases:\n",
    "    print(f\"Original: {cases}\")\n",
    "    print(f\"Cleaned:  {ct.clean(cases)}\")\n",
    "    print(\" \")"
   ]
  },
  {
   "cell_type": "code",
   "execution_count": 8,
   "id": "3948835d",
   "metadata": {},
   "outputs": [
    {
     "name": "stdout",
     "output_type": "stream",
     "text": [
      "This result is for the file: Electronics\n"
     ]
    },
    {
     "data": {
      "text/plain": [
       "{'en': 198, 'id': 1, 'tl': 1}"
      ]
     },
     "execution_count": 8,
     "metadata": {},
     "output_type": "execute_result"
    }
   ],
   "source": [
    "# Step 5 - Try language detection and verify if english is the most common language\n",
    "\n",
    "# Take the df previews used in step 1 \n",
    "\n",
    "samples = df_preview[\"reviewText\"].dropna().head(200).tolist() # drop Nans and use the 200 rows as sample\n",
    "\n",
    "lang_count = {}  # dictionary to save the data\n",
    "\n",
    "for review in samples:\n",
    "    try:\n",
    "        lang = detect(review)\n",
    "    except:\n",
    "        lang = \"unknown\"\n",
    "    \n",
    "    # Fill the dictionary \n",
    "    if lang in lang_count:\n",
    "        lang_count[lang] += 1\n",
    "    else:\n",
    "        lang_count[lang] = 1\n",
    "\n",
    "print(\"This result is for the file: Electronics\")\n",
    "lang_count"
   ]
  },
  {
   "cell_type": "code",
   "execution_count": null,
   "id": "9cb30419",
   "metadata": {},
   "outputs": [
    {
     "name": "stdout",
     "output_type": "stream",
     "text": [
      "Total samples in english: 191 of 200\n"
     ]
    }
   ],
   "source": [
    "# Step 6 - Try the module of language detection\n",
    "\n",
    "\n",
    "# Test with the same text sample of the actual dataset\n",
    "\n",
    "english_count = 0\n",
    "\n",
    "for text in samples:\n",
    "    lang = detect_lan(text)\n",
    "    eng = is_english(text)\n",
    "    if eng==True:\n",
    "        english_count += 1\n",
    "\n",
    "# Count english \n",
    "print(f\"Total samples in english: {english_count} of {len(samples)}\")\n"
   ]
  }
 ],
 "metadata": {
  "kernelspec": {
   "display_name": "env",
   "language": "python",
   "name": "python3"
  },
  "language_info": {
   "codemirror_mode": {
    "name": "ipython",
    "version": 3
   },
   "file_extension": ".py",
   "mimetype": "text/x-python",
   "name": "python",
   "nbconvert_exporter": "python",
   "pygments_lexer": "ipython3",
   "version": "3.12.10"
  }
 },
 "nbformat": 4,
 "nbformat_minor": 5
}
