{
 "cells": [
  {
   "cell_type": "code",
   "execution_count": 15,
   "id": "56f89c7f",
   "metadata": {},
   "outputs": [],
   "source": [
    "#Test file explore_data\n",
    "import os\n",
    "os.chdir(\"D:/amazon-reviews\") #Run always on the root to avoid problems\n",
    "\n",
    "\n",
    "import pandas as pd\n",
    "from pathlib import Path\n",
    "from src.features.select_columns import split_columns  # import function"
   ]
  },
  {
   "cell_type": "code",
   "execution_count": 16,
   "id": "029d6896",
   "metadata": {},
   "outputs": [
    {
     "name": "stdout",
     "output_type": "stream",
     "text": [
      "Previewing first 200 rows from: Musical_Instruments.json.gz\n",
      "Index(['overall', 'vote', 'verified', 'reviewTime', 'reviewerID', 'asin',\n",
      "       'style', 'reviewerName', 'reviewText', 'summary', 'unixReviewTime'],\n",
      "      dtype='object')\n"
     ]
    }
   ],
   "source": [
    "#Step 1: Function to load just a number of columns to properly explore data set\n",
    "\n",
    "def preview_columns(file_path, n=200):\n",
    "    \"\"\"\n",
    "    Loads a small preview of the dataset (first n rows) to avoids memory errors.\n",
    "    \n",
    "    \"\"\"\n",
    "    f_path = Path(file_path)\n",
    "    if not f_path.exists():\n",
    "        print(f\"Path {f_path} not found.\")\n",
    "        return None\n",
    "\n",
    "    print(f\"Previewing first {n} rows from: {f_path.name}\")\n",
    "    df_preview = pd.read_json(f_path, lines=True, nrows=n)\n",
    "    return df_preview\n",
    "\n",
    "\n",
    "df_preview = preview_columns(\"data/raw/Musical_Instruments.json.gz\")\n",
    "df_preview.head()\n",
    "\n",
    "print(df_preview.columns)"
   ]
  },
  {
   "cell_type": "code",
   "execution_count": 17,
   "id": "faccfdce",
   "metadata": {},
   "outputs": [
    {
     "name": "stdout",
     "output_type": "stream",
     "text": [
      "3 files found\n",
      "\n",
      "Industrial_and_Scientific.json.gz has 10 columns\n",
      "['asin', 'overall', 'reviewText', 'reviewTime', 'reviewerID', 'reviewerName', 'summary', 'unixReviewTime', 'verified', 'vote']\n",
      " \n",
      "Musical_Instruments.json.gz has 11 columns\n",
      "['asin', 'overall', 'reviewText', 'reviewTime', 'reviewerID', 'reviewerName', 'style', 'summary', 'unixReviewTime', 'verified', 'vote']\n",
      " \n",
      "Video_Games.json.gz has 10 columns\n",
      "['asin', 'overall', 'reviewText', 'reviewTime', 'reviewerID', 'reviewerName', 'summary', 'unixReviewTime', 'verified', 'vote']\n",
      " \n"
     ]
    }
   ],
   "source": [
    "#Step 2 Just load the columns of each file\n",
    "\n",
    "data_dir = Path(\"data/raw\")\n",
    "files = sorted(data_dir.glob(\"*.json.gz\")) + sorted(data_dir.glob(\"*.json\")) #glob returns a list of all the files that end in .json\n",
    "\n",
    "print(f\"{len(files)} files found\\n\")\n",
    "\n",
    "for fp in files:\n",
    "    col_prev = pd.read_json(fp, lines=True, nrows=50)  \n",
    "    print(f\"{fp.name} has {len(col_prev.columns)} columns\")\n",
    "    print(sorted(col_prev.columns))\n",
    "    print(\" \")\n",
    "\n"
   ]
  },
  {
   "cell_type": "code",
   "execution_count": 18,
   "id": "a8e2735a",
   "metadata": {},
   "outputs": [
    {
     "name": "stdout",
     "output_type": "stream",
     "text": [
      "Dataset columns:\n",
      "Index(['overall', 'vote', 'verified', 'reviewTime', 'reviewerID', 'asin',\n",
      "       'style', 'reviewerName', 'reviewText', 'summary', 'unixReviewTime'],\n",
      "      dtype='object')\n",
      "\n",
      "Function split_columns():\n",
      "{'text': ['reviewText', 'summary'], 'context': ['asin', 'overall', 'reviewTime', 'unixReviewTime', 'reviewerID', 'reviewerName', 'verified', 'vote', 'style']}\n"
     ]
    }
   ],
   "source": [
    "#Step 3: test the column separation functionn\n",
    "\n",
    "# Use a dataset\n",
    "df_test = pd.read_json(\"data/raw/Musical_Instruments.json.gz\", lines=True, nrows=50)\n",
    "cols = df_test.columns\n",
    "\n",
    "#Original columns\n",
    "print(\"Dataset columns:\")\n",
    "print(cols)\n",
    "\n",
    "\n",
    "#Separated columns\n",
    "print(\"\\nFunction split_columns():\")\n",
    "print(split_columns(cols))\n"
   ]
  }
 ],
 "metadata": {
  "kernelspec": {
   "display_name": "env",
   "language": "python",
   "name": "python3"
  },
  "language_info": {
   "codemirror_mode": {
    "name": "ipython",
    "version": 3
   },
   "file_extension": ".py",
   "mimetype": "text/x-python",
   "name": "python",
   "nbconvert_exporter": "python",
   "pygments_lexer": "ipython3",
   "version": "3.12.10"
  }
 },
 "nbformat": 4,
 "nbformat_minor": 5
}
