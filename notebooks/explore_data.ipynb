{
 "cells": [
  {
   "cell_type": "code",
   "execution_count": 32,
   "id": "56f89c7f",
   "metadata": {},
   "outputs": [
    {
     "data": {
      "text/plain": [
       "<module 'src.text.clean_text' from 'D:\\\\amazon-reviews\\\\src\\\\text\\\\clean_text.py'>"
      ]
     },
     "execution_count": 32,
     "metadata": {},
     "output_type": "execute_result"
    }
   ],
   "source": [
    "#Test file explore_data\n",
    "import os\n",
    "os.chdir(\"D:/amazon-reviews\") #Run always on the root to avoid problems\n",
    "\n",
    "\n",
    "import pandas as pd\n",
    "from importlib import reload\n",
    "from pathlib import Path\n",
    "from src.features.select_columns import split_columns  # import function\n",
    "import src.text.clean_text as ct\n",
    "reload(ct)"
   ]
  },
  {
   "cell_type": "code",
   "execution_count": 2,
   "id": "029d6896",
   "metadata": {},
   "outputs": [
    {
     "name": "stdout",
     "output_type": "stream",
     "text": [
      "Previewing first 200 rows from: Musical_Instruments.json.gz\n"
     ]
    },
    {
     "data": {
      "text/html": [
       "<div>\n",
       "<style scoped>\n",
       "    .dataframe tbody tr th:only-of-type {\n",
       "        vertical-align: middle;\n",
       "    }\n",
       "\n",
       "    .dataframe tbody tr th {\n",
       "        vertical-align: top;\n",
       "    }\n",
       "\n",
       "    .dataframe thead th {\n",
       "        text-align: right;\n",
       "    }\n",
       "</style>\n",
       "<table border=\"1\" class=\"dataframe\">\n",
       "  <thead>\n",
       "    <tr style=\"text-align: right;\">\n",
       "      <th></th>\n",
       "      <th>overall</th>\n",
       "      <th>vote</th>\n",
       "      <th>verified</th>\n",
       "      <th>reviewTime</th>\n",
       "      <th>reviewerID</th>\n",
       "      <th>asin</th>\n",
       "      <th>style</th>\n",
       "      <th>reviewerName</th>\n",
       "      <th>reviewText</th>\n",
       "      <th>summary</th>\n",
       "      <th>unixReviewTime</th>\n",
       "    </tr>\n",
       "  </thead>\n",
       "  <tbody>\n",
       "    <tr>\n",
       "      <th>0</th>\n",
       "      <td>5</td>\n",
       "      <td>90.0</td>\n",
       "      <td>False</td>\n",
       "      <td>08 9, 2004</td>\n",
       "      <td>AXHY24HWOF184</td>\n",
       "      <td>470536454</td>\n",
       "      <td>{'Format:': ' Paperback'}</td>\n",
       "      <td>Bendy</td>\n",
       "      <td>Crocheting for Dummies by Karen Manthey &amp; Susa...</td>\n",
       "      <td>Terrific Book for Learning the Art of Crochet</td>\n",
       "      <td>1092009600</td>\n",
       "    </tr>\n",
       "    <tr>\n",
       "      <th>1</th>\n",
       "      <td>4</td>\n",
       "      <td>2.0</td>\n",
       "      <td>True</td>\n",
       "      <td>04 6, 2017</td>\n",
       "      <td>A29OWR79AM796H</td>\n",
       "      <td>470536454</td>\n",
       "      <td>{'Format:': ' Hardcover'}</td>\n",
       "      <td>Amazon Customer</td>\n",
       "      <td>Very helpful...</td>\n",
       "      <td>Four Stars</td>\n",
       "      <td>1491436800</td>\n",
       "    </tr>\n",
       "    <tr>\n",
       "      <th>2</th>\n",
       "      <td>5</td>\n",
       "      <td>NaN</td>\n",
       "      <td>True</td>\n",
       "      <td>03 14, 2017</td>\n",
       "      <td>AUPWU27A7X5F6</td>\n",
       "      <td>470536454</td>\n",
       "      <td>{'Format:': ' Paperback'}</td>\n",
       "      <td>Amazon Customer</td>\n",
       "      <td>EASY TO UNDERSTAND AND A PROMPT SERVICE TOO</td>\n",
       "      <td>Five Stars</td>\n",
       "      <td>1489449600</td>\n",
       "    </tr>\n",
       "    <tr>\n",
       "      <th>3</th>\n",
       "      <td>4</td>\n",
       "      <td>NaN</td>\n",
       "      <td>True</td>\n",
       "      <td>02 14, 2017</td>\n",
       "      <td>A1N69A47D4JO6K</td>\n",
       "      <td>470536454</td>\n",
       "      <td>{'Format:': ' Paperback'}</td>\n",
       "      <td>Christopher Burnett</td>\n",
       "      <td>My girlfriend use quite often</td>\n",
       "      <td>Four Stars</td>\n",
       "      <td>1487030400</td>\n",
       "    </tr>\n",
       "    <tr>\n",
       "      <th>4</th>\n",
       "      <td>5</td>\n",
       "      <td>NaN</td>\n",
       "      <td>True</td>\n",
       "      <td>01 29, 2017</td>\n",
       "      <td>AHTIQUMVCGBFJ</td>\n",
       "      <td>470536454</td>\n",
       "      <td>{'Format:': ' Paperback'}</td>\n",
       "      <td>Amazon Customer</td>\n",
       "      <td>Arrived as described. Very happy.</td>\n",
       "      <td>Very happy.</td>\n",
       "      <td>1485648000</td>\n",
       "    </tr>\n",
       "  </tbody>\n",
       "</table>\n",
       "</div>"
      ],
      "text/plain": [
       "   overall  vote  verified   reviewTime      reviewerID       asin  \\\n",
       "0        5  90.0     False   08 9, 2004   AXHY24HWOF184  470536454   \n",
       "1        4   2.0      True   04 6, 2017  A29OWR79AM796H  470536454   \n",
       "2        5   NaN      True  03 14, 2017   AUPWU27A7X5F6  470536454   \n",
       "3        4   NaN      True  02 14, 2017  A1N69A47D4JO6K  470536454   \n",
       "4        5   NaN      True  01 29, 2017   AHTIQUMVCGBFJ  470536454   \n",
       "\n",
       "                       style         reviewerName  \\\n",
       "0  {'Format:': ' Paperback'}                Bendy   \n",
       "1  {'Format:': ' Hardcover'}      Amazon Customer   \n",
       "2  {'Format:': ' Paperback'}      Amazon Customer   \n",
       "3  {'Format:': ' Paperback'}  Christopher Burnett   \n",
       "4  {'Format:': ' Paperback'}      Amazon Customer   \n",
       "\n",
       "                                          reviewText  \\\n",
       "0  Crocheting for Dummies by Karen Manthey & Susa...   \n",
       "1                                    Very helpful...   \n",
       "2        EASY TO UNDERSTAND AND A PROMPT SERVICE TOO   \n",
       "3                      My girlfriend use quite often   \n",
       "4                  Arrived as described. Very happy.   \n",
       "\n",
       "                                         summary  unixReviewTime  \n",
       "0  Terrific Book for Learning the Art of Crochet      1092009600  \n",
       "1                                     Four Stars      1491436800  \n",
       "2                                     Five Stars      1489449600  \n",
       "3                                     Four Stars      1487030400  \n",
       "4                                    Very happy.      1485648000  "
      ]
     },
     "execution_count": 2,
     "metadata": {},
     "output_type": "execute_result"
    }
   ],
   "source": [
    "#Step 1: Function to load just a number of columns to properly explore data set\n",
    "\n",
    "def preview_columns(file_path, n=200):\n",
    "    \"\"\"\n",
    "    Loads a small preview of the dataset (first n rows) to avoids memory errors.\n",
    "    \n",
    "    \"\"\"\n",
    "    f_path = Path(file_path)\n",
    "    if not f_path.exists():\n",
    "        print(f\"Path {f_path} not found.\")\n",
    "        return None\n",
    "\n",
    "    print(f\"Previewing first {n} rows from: {f_path.name}\")\n",
    "    df_preview = pd.read_json(f_path, lines=True, nrows=n)\n",
    "    return df_preview\n",
    "\n",
    "\n",
    "df_preview = preview_columns(\"data/raw/Musical_Instruments.json.gz\")\n",
    "df_preview.head()\n",
    "\n",
    "#print(df_preview.columns)"
   ]
  },
  {
   "cell_type": "code",
   "execution_count": 17,
   "id": "faccfdce",
   "metadata": {},
   "outputs": [
    {
     "name": "stdout",
     "output_type": "stream",
     "text": [
      "3 files found\n",
      "\n",
      "Industrial_and_Scientific.json.gz has 10 columns\n",
      "['asin', 'overall', 'reviewText', 'reviewTime', 'reviewerID', 'reviewerName', 'summary', 'unixReviewTime', 'verified', 'vote']\n",
      " \n",
      "Musical_Instruments.json.gz has 11 columns\n",
      "['asin', 'overall', 'reviewText', 'reviewTime', 'reviewerID', 'reviewerName', 'style', 'summary', 'unixReviewTime', 'verified', 'vote']\n",
      " \n",
      "Video_Games.json.gz has 10 columns\n",
      "['asin', 'overall', 'reviewText', 'reviewTime', 'reviewerID', 'reviewerName', 'summary', 'unixReviewTime', 'verified', 'vote']\n",
      " \n"
     ]
    }
   ],
   "source": [
    "#Step 2 Just load the columns of each file\n",
    "\n",
    "data_dir = Path(\"data/raw\")\n",
    "files = sorted(data_dir.glob(\"*.json.gz\")) + sorted(data_dir.glob(\"*.json\")) #glob returns a list of all the files that end in .json\n",
    "\n",
    "print(f\"{len(files)} files found\\n\")\n",
    "\n",
    "for fp in files:\n",
    "    col_prev = pd.read_json(fp, lines=True, nrows=50)  \n",
    "    print(f\"{fp.name} has {len(col_prev.columns)} columns\")\n",
    "    print(sorted(col_prev.columns))\n",
    "    print(\" \")\n",
    "\n"
   ]
  },
  {
   "cell_type": "code",
   "execution_count": 18,
   "id": "a8e2735a",
   "metadata": {},
   "outputs": [
    {
     "name": "stdout",
     "output_type": "stream",
     "text": [
      "Dataset columns:\n",
      "Index(['overall', 'vote', 'verified', 'reviewTime', 'reviewerID', 'asin',\n",
      "       'style', 'reviewerName', 'reviewText', 'summary', 'unixReviewTime'],\n",
      "      dtype='object')\n",
      "\n",
      "Function split_columns():\n",
      "{'text': ['reviewText', 'summary'], 'context': ['asin', 'overall', 'reviewTime', 'unixReviewTime', 'reviewerID', 'reviewerName', 'verified', 'vote', 'style']}\n"
     ]
    }
   ],
   "source": [
    "#Step 3: test the column separation functionn\n",
    "\n",
    "# Use a dataset\n",
    "df_test = pd.read_json(\"data/raw/Musical_Instruments.json.gz\", lines=True, nrows=50)\n",
    "cols = df_test.columns\n",
    "\n",
    "#Original columns\n",
    "print(\"Dataset columns:\")\n",
    "print(cols)\n",
    "\n",
    "\n",
    "#Separated columns\n",
    "print(\"\\nFunction split_columns():\")\n",
    "print(split_columns(cols))\n"
   ]
  },
  {
   "cell_type": "code",
   "execution_count": null,
   "id": "39fda8f5",
   "metadata": {},
   "outputs": [
    {
     "name": "stdout",
     "output_type": "stream",
     "text": [
      "Original:   EASY TO UNDERSTAND AND A PROMPT    SERVICE TOO\t !!!!!!!!!!! 😍😍 \n",
      "Cleaned:  easy to understand and a prompt service too\n",
      " \n",
      "Original: 💀💀 URL TeStInG: www.ilovepdf.com  i love it 🐍 so much let's test it out \n",
      "Cleaned:  url testing i love it so much let's test it out\n",
      " \n",
      "Original: None\n",
      "Cleaned:  \n",
      " \n",
      "Original:   Already clean text ❌✅🎯\n",
      "Cleaned:  already clean text\n",
      " \n",
      "Original: 🧠🎤Arrived as 🎮🔖 described. Very happy!.\n",
      "Cleaned:  arrived as described very happy\n",
      " \n"
     ]
    }
   ],
   "source": [
    "#Step 4: Test data cleaning\n",
    "\n",
    "test_cases = [\n",
    "    \"  EASY TO UNDERSTAND AND A PROMPT    SERVICE TOO\t !!!!!!!!!!! 😍😍 \",\n",
    "    \"💀💀 URL TeStInG: www.ilovepdf.com  i love it 🐍 so much let's test it out \",\n",
    "    None,\n",
    "    \"  Already clean text ❌✅🎯\",\n",
    "    \"🧠🎤Arrived as 🎮🔖 described. Very happy!.\"\n",
    "]\n",
    "\n",
    "for cases in test_cases:\n",
    "    print(f\"Original: {cases}\")\n",
    "    print(f\"Cleaned:  {ct.clean(cases)}\")\n",
    "    print(\" \")"
   ]
  }
 ],
 "metadata": {
  "kernelspec": {
   "display_name": "env",
   "language": "python",
   "name": "python3"
  },
  "language_info": {
   "codemirror_mode": {
    "name": "ipython",
    "version": 3
   },
   "file_extension": ".py",
   "mimetype": "text/x-python",
   "name": "python",
   "nbconvert_exporter": "python",
   "pygments_lexer": "ipython3",
   "version": "3.12.10"
  }
 },
 "nbformat": 4,
 "nbformat_minor": 5
}
